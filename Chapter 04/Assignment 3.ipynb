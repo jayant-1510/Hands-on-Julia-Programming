{
 "cells": [
  {
   "cell_type": "markdown",
   "id": "e7f40adb",
   "metadata": {},
   "source": [
    "# Chapter 4 : Functions and method"
   ]
  },
  {
   "cell_type": "code",
   "execution_count": 1,
   "id": "723df4aa",
   "metadata": {},
   "outputs": [
    {
     "name": "stderr",
     "output_type": "stream",
     "text": [
      "\u001b[32m\u001b[1m  Activating\u001b[22m\u001b[39m environment at `C:\\Users\\pcs\\Project.toml`\n"
     ]
    }
   ],
   "source": [
    "using Pkg\n",
    "pkg\"activate .\"\n",
    "pkg\"instantiate\""
   ]
  },
  {
   "cell_type": "markdown",
   "id": "136ea4e1",
   "metadata": {},
   "source": [
    "# 1.) Introduction"
   ]
  },
  {
   "cell_type": "markdown",
   "id": "91a70fec",
   "metadata": {},
   "source": [
    "## 8- Queens Problem"
   ]
  },
  {
   "cell_type": "markdown",
   "id": "c40a1ea0",
   "metadata": {},
   "source": [
    "### Two Mututally safe Queens"
   ]
  },
  {
   "cell_type": "code",
   "execution_count": 4,
   "id": "a5ebf90c",
   "metadata": {},
   "outputs": [
    {
     "data": {
      "text/plain": [
       "attacks (generic function with 1 method)"
      ]
     },
     "execution_count": 4,
     "metadata": {},
     "output_type": "execute_result"
    }
   ],
   "source": [
    "function attacks(j1, s1, j2, s2)\n",
    "    if j1 == s2\n",
    "        return true\n",
    "    elseif s1 == s2\n",
    "        return true\n",
    "    elseif j1 - s1 == j2 - s2\n",
    "        return true\n",
    "    elseif j1 + s1 == j2 + s2\n",
    "        return true\n",
    "    else\n",
    "        return false\n",
    "    end\n",
    "end"
   ]
  },
  {
   "cell_type": "code",
   "execution_count": 5,
   "id": "12776e43",
   "metadata": {},
   "outputs": [
    {
     "data": {
      "text/plain": [
       "true"
      ]
     },
     "execution_count": 5,
     "metadata": {},
     "output_type": "execute_result"
    }
   ],
   "source": [
    "attacks(1, 2, 4, 5)"
   ]
  },
  {
   "cell_type": "code",
   "execution_count": 6,
   "id": "de0bae12",
   "metadata": {},
   "outputs": [
    {
     "data": {
      "text/plain": [
       "false"
      ]
     },
     "execution_count": 6,
     "metadata": {},
     "output_type": "execute_result"
    }
   ],
   "source": [
    "attacks(1, 2, 4, 6)"
   ]
  },
  {
   "cell_type": "markdown",
   "id": "215f86ef",
   "metadata": {},
   "source": [
    "### Operators"
   ]
  },
  {
   "cell_type": "code",
   "execution_count": 7,
   "id": "d7abb8f2",
   "metadata": {},
   "outputs": [
    {
     "data": {
      "text/plain": [
       "attacks (generic function with 1 method)"
      ]
     },
     "execution_count": 7,
     "metadata": {},
     "output_type": "execute_result"
    }
   ],
   "source": [
    "function attacks(j1, s1, j2, s2)\n",
    "    return j1 == j2 || s1 == s2 || j1 - s1 == j2 - s2 || j1 + s1 == j2 + s2\n",
    "end"
   ]
  },
  {
   "cell_type": "markdown",
   "id": "9b9999bb",
   "metadata": {},
   "source": [
    "# 2.) Short Form"
   ]
  },
  {
   "cell_type": "code",
   "execution_count": 8,
   "id": "860590ab",
   "metadata": {},
   "outputs": [
    {
     "data": {
      "text/plain": [
       "attacks (generic function with 1 method)"
      ]
     },
     "execution_count": 8,
     "metadata": {},
     "output_type": "execute_result"
    }
   ],
   "source": [
    "function attacks(j1, s1, j2, s2)\n",
    "    j1 == j2 || s1 == s2 || j1 - s1 == j2 - s2 || j1 + s1 == j2 + s2\n",
    "end"
   ]
  },
  {
   "cell_type": "code",
   "execution_count": 9,
   "id": "07903f18",
   "metadata": {},
   "outputs": [
    {
     "data": {
      "text/plain": [
       "attacks (generic function with 1 method)"
      ]
     },
     "execution_count": 9,
     "metadata": {},
     "output_type": "execute_result"
    }
   ],
   "source": [
    "attacks(j1, s1, j2, s2) = (j1 == j2 || s1 == s2 || j1 - s1 == j2 - s2 || j1 + s1 == j2 + s2)"
   ]
  },
  {
   "cell_type": "code",
   "execution_count": 10,
   "id": "89fa7e7b",
   "metadata": {},
   "outputs": [
    {
     "data": {
      "text/plain": [
       "attacks (generic function with 1 method)"
      ]
     },
     "execution_count": 10,
     "metadata": {},
     "output_type": "execute_result"
    }
   ],
   "source": [
    "attacks(j1, s1, j2, s2) = begin       # This is discouraged due to readability \n",
    "    if j1 == j2\n",
    "        return true\n",
    "    elseif s1 == s2\n",
    "        return true\n",
    "    elseif j1 - s1 == j2 - s2\n",
    "        return true\n",
    "    elseif j1 + s1 == j2 + s2\n",
    "        return true\n",
    "    else\n",
    "        return false\n",
    "    end\n",
    "end"
   ]
  },
  {
   "cell_type": "markdown",
   "id": "53719fdf",
   "metadata": {},
   "source": [
    "## Anonymous Function"
   ]
  },
  {
   "cell_type": "code",
   "execution_count": 11,
   "id": "f07cd437",
   "metadata": {},
   "outputs": [
    {
     "data": {
      "text/plain": [
       "#1 (generic function with 1 method)"
      ]
     },
     "execution_count": 11,
     "metadata": {},
     "output_type": "execute_result"
    }
   ],
   "source": [
    "attacks_var = (j1, s1, j2, s2)->(j1 == j2 || s1 == s2 || j1 - s1 == j2 - s2 || j1 + s1 == j2 + s2)"
   ]
  },
  {
   "cell_type": "code",
   "execution_count": 12,
   "id": "a0f4d3d5",
   "metadata": {},
   "outputs": [
    {
     "data": {
      "text/plain": [
       "true"
      ]
     },
     "execution_count": 12,
     "metadata": {},
     "output_type": "execute_result"
    }
   ],
   "source": [
    "attacks_var(1, 2, 4, 5)"
   ]
  },
  {
   "cell_type": "markdown",
   "id": "d156e3fe",
   "metadata": {},
   "source": [
    "# 3.) Input Arguement"
   ]
  },
  {
   "cell_type": "markdown",
   "id": "181bc2ff",
   "metadata": {},
   "source": [
    "## Fixed Arguements"
   ]
  },
  {
   "cell_type": "code",
   "execution_count": 13,
   "id": "39c2e119",
   "metadata": {},
   "outputs": [
    {
     "ename": "LoadError",
     "evalue": "MethodError: no method matching attacks(::Int64, ::Int64, ::Int64, ::Int64, ::Int64)\n\u001b[0mClosest candidates are:\n\u001b[0m  attacks(::Any, ::Any, ::Any, ::Any) at In[10]:1",
     "output_type": "error",
     "traceback": [
      "MethodError: no method matching attacks(::Int64, ::Int64, ::Int64, ::Int64, ::Int64)\n\u001b[0mClosest candidates are:\n\u001b[0m  attacks(::Any, ::Any, ::Any, ::Any) at In[10]:1",
      "",
      "Stacktrace:",
      " [1] top-level scope",
      "   @ In[13]:1",
      " [2] eval",
      "   @ .\\boot.jl:360 [inlined]",
      " [3] include_string(mapexpr::typeof(REPL.softscope), mod::Module, code::String, filename::String)",
      "   @ Base .\\loading.jl:1116"
     ]
    }
   ],
   "source": [
    "attacks(1, 2, 3, 4, 5)"
   ]
  },
  {
   "cell_type": "code",
   "execution_count": 14,
   "id": "bd6e7164",
   "metadata": {},
   "outputs": [
    {
     "ename": "LoadError",
     "evalue": "MethodError: no method matching attacks(::Int64, ::Int64, ::Int64)\n\u001b[0mClosest candidates are:\n\u001b[0m  attacks(::Any, ::Any, ::Any, \u001b[91m::Any\u001b[39m) at In[10]:1",
     "output_type": "error",
     "traceback": [
      "MethodError: no method matching attacks(::Int64, ::Int64, ::Int64)\n\u001b[0mClosest candidates are:\n\u001b[0m  attacks(::Any, ::Any, ::Any, \u001b[91m::Any\u001b[39m) at In[10]:1",
      "",
      "Stacktrace:",
      " [1] top-level scope",
      "   @ In[14]:1",
      " [2] eval",
      "   @ .\\boot.jl:360 [inlined]",
      " [3] include_string(mapexpr::typeof(REPL.softscope), mod::Module, code::String, filename::String)",
      "   @ Base .\\loading.jl:1116"
     ]
    }
   ],
   "source": [
    "attacks(1, 2, 3)"
   ]
  },
  {
   "cell_type": "code",
   "execution_count": 15,
   "id": "8464e3d3",
   "metadata": {},
   "outputs": [
    {
     "data": {
      "text/plain": [
       "my_name_is_jayant (generic function with 1 method)"
      ]
     },
     "execution_count": 15,
     "metadata": {},
     "output_type": "execute_result"
    }
   ],
   "source": [
    "function my_name_is_jayant()\n",
    "    println(\"my_name_is_jayant\")\n",
    "end"
   ]
  },
  {
   "cell_type": "code",
   "execution_count": 16,
   "id": "75351be8",
   "metadata": {},
   "outputs": [
    {
     "name": "stdout",
     "output_type": "stream",
     "text": [
      "my_name_is_jayant\n"
     ]
    }
   ],
   "source": [
    "my_name_is_jayant()"
   ]
  },
  {
   "cell_type": "markdown",
   "id": "3fd1b451",
   "metadata": {},
   "source": [
    "## Variable Arguements"
   ]
  },
  {
   "cell_type": "code",
   "execution_count": 18,
   "id": "82d6a849",
   "metadata": {},
   "outputs": [
    {
     "data": {
      "text/plain": [
       "mysum (generic function with 1 method)"
      ]
     },
     "execution_count": 18,
     "metadata": {},
     "output_type": "execute_result"
    }
   ],
   "source": [
    "mysum(j, s...) = j + mysum(s...)"
   ]
  },
  {
   "cell_type": "code",
   "execution_count": 19,
   "id": "e0584851",
   "metadata": {},
   "outputs": [
    {
     "data": {
      "text/plain": [
       "mysum (generic function with 2 methods)"
      ]
     },
     "execution_count": 19,
     "metadata": {},
     "output_type": "execute_result"
    }
   ],
   "source": [
    "mysum(j) = j"
   ]
  },
  {
   "cell_type": "code",
   "execution_count": 20,
   "id": "bfab798c",
   "metadata": {},
   "outputs": [
    {
     "data": {
      "text/plain": [
       "699"
      ]
     },
     "execution_count": 20,
     "metadata": {},
     "output_type": "execute_result"
    }
   ],
   "source": [
    "mysum(243,456)"
   ]
  },
  {
   "cell_type": "code",
   "execution_count": 21,
   "id": "eba39637",
   "metadata": {},
   "outputs": [
    {
     "data": {
      "text/plain": [
       "1257"
      ]
     },
     "execution_count": 21,
     "metadata": {},
     "output_type": "execute_result"
    }
   ],
   "source": [
    "mysum(234,456,567)"
   ]
  },
  {
   "cell_type": "code",
   "execution_count": 22,
   "id": "8d38b0ae",
   "metadata": {},
   "outputs": [
    {
     "data": {
      "text/plain": [
       "mymax (generic function with 1 method)"
      ]
     },
     "execution_count": 22,
     "metadata": {},
     "output_type": "execute_result"
    }
   ],
   "source": [
    "mymax(j, s...) = mymax(j, mymax(s...))"
   ]
  },
  {
   "cell_type": "code",
   "execution_count": 23,
   "id": "25ebfe78",
   "metadata": {},
   "outputs": [
    {
     "data": {
      "text/plain": [
       "mymax (generic function with 2 methods)"
      ]
     },
     "execution_count": 23,
     "metadata": {},
     "output_type": "execute_result"
    }
   ],
   "source": [
    "mymax(j,s) = j > s ? j : s"
   ]
  },
  {
   "cell_type": "code",
   "execution_count": 24,
   "id": "72422ce7",
   "metadata": {},
   "outputs": [
    {
     "data": {
      "text/plain": [
       "64"
      ]
     },
     "execution_count": 24,
     "metadata": {},
     "output_type": "execute_result"
    }
   ],
   "source": [
    "mymax(45,64,25)"
   ]
  },
  {
   "cell_type": "code",
   "execution_count": 25,
   "id": "7aa46bc0",
   "metadata": {},
   "outputs": [
    {
     "ename": "LoadError",
     "evalue": "MethodError: no method matching mymax()\n\u001b[0mClosest candidates are:\n\u001b[0m  mymax(\u001b[91m::Any\u001b[39m, \u001b[91m::Any\u001b[39m) at In[23]:1\n\u001b[0m  mymax(\u001b[91m::Any\u001b[39m, \u001b[91m::Any...\u001b[39m) at In[22]:1",
     "output_type": "error",
     "traceback": [
      "MethodError: no method matching mymax()\n\u001b[0mClosest candidates are:\n\u001b[0m  mymax(\u001b[91m::Any\u001b[39m, \u001b[91m::Any\u001b[39m) at In[23]:1\n\u001b[0m  mymax(\u001b[91m::Any\u001b[39m, \u001b[91m::Any...\u001b[39m) at In[22]:1",
      "",
      "Stacktrace:",
      " [1] mymax(::Int64)",
      "   @ Main .\\In[22]:1",
      " [2] top-level scope",
      "   @ In[25]:1",
      " [3] eval",
      "   @ .\\boot.jl:360 [inlined]",
      " [4] include_string(mapexpr::typeof(REPL.softscope), mod::Module, code::String, filename::String)",
      "   @ Base .\\loading.jl:1116"
     ]
    }
   ],
   "source": [
    "mymax(64)"
   ]
  },
  {
   "cell_type": "code",
   "execution_count": 26,
   "id": "8f241fa0",
   "metadata": {},
   "outputs": [
    {
     "data": {
      "text/plain": [
       "mymax (generic function with 3 methods)"
      ]
     },
     "execution_count": 26,
     "metadata": {},
     "output_type": "execute_result"
    }
   ],
   "source": [
    "mymax(j) = j"
   ]
  },
  {
   "cell_type": "code",
   "execution_count": 27,
   "id": "b293c9e2",
   "metadata": {},
   "outputs": [
    {
     "data": {
      "text/plain": [
       "6"
      ]
     },
     "execution_count": 27,
     "metadata": {},
     "output_type": "execute_result"
    }
   ],
   "source": [
    "mymax(6)"
   ]
  },
  {
   "cell_type": "code",
   "execution_count": 28,
   "id": "db4ccb10",
   "metadata": {},
   "outputs": [
    {
     "data": {
      "text/html": [
       "# 3 methods for generic function <b>mymax</b>:<ul><li> mymax(j) in Main at In[26]:1</li> <li> mymax(j, s) in Main at In[23]:1</li> <li> mymax(j, s...) in Main at In[22]:1</li> </ul>"
      ],
      "text/plain": [
       "# 3 methods for generic function \"mymax\":\n",
       "[1] mymax(j) in Main at In[26]:1\n",
       "[2] mymax(j, s) in Main at In[23]:1\n",
       "[3] mymax(j, s...) in Main at In[22]:1"
      ]
     },
     "execution_count": 28,
     "metadata": {},
     "output_type": "execute_result"
    }
   ],
   "source": [
    "methods(mymax)"
   ]
  },
  {
   "cell_type": "markdown",
   "id": "b37a2bb4",
   "metadata": {},
   "source": [
    "## Default Values"
   ]
  },
  {
   "cell_type": "code",
   "execution_count": 29,
   "id": "ea277dc1",
   "metadata": {},
   "outputs": [
    {
     "data": {
      "text/plain": [
       "mymax (generic function with 3 methods)"
      ]
     },
     "execution_count": 29,
     "metadata": {},
     "output_type": "execute_result"
    }
   ],
   "source": [
    "mymax(j, s...) = mymax(j, mymax(s...))\n",
    "mymax(j, s=j) = j > s ? j : s"
   ]
  },
  {
   "cell_type": "code",
   "execution_count": 30,
   "id": "435e7c70",
   "metadata": {},
   "outputs": [
    {
     "data": {
      "text/html": [
       "# 3 methods for generic function <b>mymax</b>:<ul><li> mymax(j) in Main at In[29]:2</li> <li> mymax(j, s) in Main at In[29]:2</li> <li> mymax(j, s...) in Main at In[29]:1</li> </ul>"
      ],
      "text/plain": [
       "# 3 methods for generic function \"mymax\":\n",
       "[1] mymax(j) in Main at In[29]:2\n",
       "[2] mymax(j, s) in Main at In[29]:2\n",
       "[3] mymax(j, s...) in Main at In[29]:1"
      ]
     },
     "execution_count": 30,
     "metadata": {},
     "output_type": "execute_result"
    }
   ],
   "source": [
    "methods(mymax)"
   ]
  },
  {
   "cell_type": "markdown",
   "id": "320db1a2",
   "metadata": {},
   "source": [
    "## Slurping and Splatting"
   ]
  },
  {
   "cell_type": "code",
   "execution_count": 31,
   "id": "8dbc8216",
   "metadata": {},
   "outputs": [
    {
     "data": {
      "text/plain": [
       "test (generic function with 1 method)"
      ]
     },
     "execution_count": 31,
     "metadata": {},
     "output_type": "execute_result"
    }
   ],
   "source": [
    "function test(args...)\n",
    "    println(typeof(args))\n",
    "end"
   ]
  },
  {
   "cell_type": "code",
   "execution_count": 32,
   "id": "6b670bf0",
   "metadata": {},
   "outputs": [
    {
     "name": "stdout",
     "output_type": "stream",
     "text": [
      "Tuple{Float64, Float64, Int64, Float64}\n"
     ]
    }
   ],
   "source": [
    "test(6.3, 5.32, 3, 45.7)"
   ]
  },
  {
   "cell_type": "code",
   "execution_count": 33,
   "id": "5578f8da",
   "metadata": {},
   "outputs": [
    {
     "data": {
      "text/plain": [
       "true"
      ]
     },
     "execution_count": 33,
     "metadata": {},
     "output_type": "execute_result"
    }
   ],
   "source": [
    "m1 = (1, 2);\n",
    "m2 = (3, 4);\n",
    "attacks(m1..., m2...)"
   ]
  },
  {
   "cell_type": "markdown",
   "id": "873493dc",
   "metadata": {},
   "source": [
    "# 4.)Return Values"
   ]
  },
  {
   "cell_type": "code",
   "execution_count": 34,
   "id": "d41f32a3",
   "metadata": {},
   "outputs": [
    {
     "name": "stdout",
     "output_type": "stream",
     "text": [
      "my_name_is_jayant\n"
     ]
    }
   ],
   "source": [
    "x = my_name_is_jayant()"
   ]
  },
  {
   "cell_type": "code",
   "execution_count": 35,
   "id": "9742b867",
   "metadata": {},
   "outputs": [
    {
     "data": {
      "text/plain": [
       "Nothing"
      ]
     },
     "execution_count": 35,
     "metadata": {},
     "output_type": "execute_result"
    }
   ],
   "source": [
    "typeof(x)"
   ]
  },
  {
   "cell_type": "markdown",
   "id": "d5c76961",
   "metadata": {},
   "source": [
    "## Type Safety"
   ]
  },
  {
   "cell_type": "code",
   "execution_count": 36,
   "id": "3aa8bb85",
   "metadata": {},
   "outputs": [
    {
     "data": {
      "text/plain": [
       "attacks (generic function with 1 method)"
      ]
     },
     "execution_count": 36,
     "metadata": {},
     "output_type": "execute_result"
    }
   ],
   "source": [
    "function attacks(j1, s1, j2, s2)\n",
    "    if j1 == j2\n",
    "        return true\n",
    "    elseif s1 == s2\n",
    "        return true\n",
    "    elseif j1 - s1 == j2 - s2\n",
    "        return true\n",
    "    elseif j1 + s1 == j2 + s2\n",
    "        return true\n",
    "    end\n",
    "end"
   ]
  },
  {
   "cell_type": "code",
   "execution_count": 37,
   "id": "b18b1fcf",
   "metadata": {},
   "outputs": [
    {
     "data": {
      "text/plain": [
       "true"
      ]
     },
     "execution_count": 37,
     "metadata": {},
     "output_type": "execute_result"
    }
   ],
   "source": [
    "attacks(1, 2, 3, 4)"
   ]
  },
  {
   "cell_type": "code",
   "execution_count": 38,
   "id": "f064139a",
   "metadata": {},
   "outputs": [],
   "source": [
    "attacks(1, 2, 3, 5)"
   ]
  },
  {
   "cell_type": "code",
   "execution_count": 39,
   "id": "5c02ee6b",
   "metadata": {},
   "outputs": [
    {
     "data": {
      "text/plain": [
       "true"
      ]
     },
     "execution_count": 39,
     "metadata": {},
     "output_type": "execute_result"
    }
   ],
   "source": [
    "a = attacks(1, 2, 3, 4)"
   ]
  },
  {
   "cell_type": "code",
   "execution_count": 40,
   "id": "8b7f2e8b",
   "metadata": {},
   "outputs": [],
   "source": [
    "b = attacks(1, 2, 3, 5)"
   ]
  },
  {
   "cell_type": "code",
   "execution_count": 41,
   "id": "42b9b269",
   "metadata": {},
   "outputs": [
    {
     "data": {
      "text/plain": [
       "(Bool, Nothing)"
      ]
     },
     "execution_count": 41,
     "metadata": {},
     "output_type": "execute_result"
    }
   ],
   "source": [
    "typeof(a), typeof(b)"
   ]
  },
  {
   "cell_type": "markdown",
   "id": "bc6936f7",
   "metadata": {},
   "source": [
    "## Multiple Values"
   ]
  },
  {
   "cell_type": "code",
   "execution_count": 42,
   "id": "52b9fba0",
   "metadata": {},
   "outputs": [
    {
     "data": {
      "text/plain": [
       "attacks_with_reason (generic function with 1 method)"
      ]
     },
     "execution_count": 42,
     "metadata": {},
     "output_type": "execute_result"
    }
   ],
   "source": [
    "function attacks_with_reason(j1, s1, j2, s2)\n",
    "    if j1 == j2\n",
    "        return true, :j\n",
    "    elseif s1 == s2\n",
    "        return true, :s\n",
    "    elseif j1 - s1 == j2 - s2\n",
    "        return true, :diag\n",
    "    elseif j1 + s1 == j2 + s2\n",
    "        return true, :xdiag\n",
    "    else\n",
    "        return false, :na\n",
    "    end\n",
    "end"
   ]
  },
  {
   "cell_type": "code",
   "execution_count": 43,
   "id": "e8e7bd91",
   "metadata": {},
   "outputs": [
    {
     "data": {
      "text/plain": [
       "(true, :diag)"
      ]
     },
     "execution_count": 43,
     "metadata": {},
     "output_type": "execute_result"
    }
   ],
   "source": [
    "attacks_with_reason(1, 2, 3, 4)"
   ]
  },
  {
   "cell_type": "code",
   "execution_count": 44,
   "id": "b88f94ee",
   "metadata": {},
   "outputs": [
    {
     "data": {
      "text/plain": [
       "(false, :na)"
      ]
     },
     "execution_count": 44,
     "metadata": {},
     "output_type": "execute_result"
    }
   ],
   "source": [
    "attacks_with_reason(1, 2, 3, 1)"
   ]
  },
  {
   "cell_type": "code",
   "execution_count": 45,
   "id": "df274679",
   "metadata": {},
   "outputs": [
    {
     "data": {
      "text/plain": [
       "(true, :s)"
      ]
     },
     "execution_count": 45,
     "metadata": {},
     "output_type": "execute_result"
    }
   ],
   "source": [
    "attacks_with_reason(1, 2, 3, 2)"
   ]
  },
  {
   "cell_type": "code",
   "execution_count": 46,
   "id": "dc0a5642",
   "metadata": {},
   "outputs": [
    {
     "data": {
      "text/plain": [
       "(true, :xdiag)"
      ]
     },
     "execution_count": 46,
     "metadata": {},
     "output_type": "execute_result"
    }
   ],
   "source": [
    "attacks_with_reason(1, 2, 2, 1)"
   ]
  },
  {
   "cell_type": "markdown",
   "id": "f2bd3f42",
   "metadata": {},
   "source": [
    "# 5.) Recursion"
   ]
  },
  {
   "cell_type": "code",
   "execution_count": 47,
   "id": "6a0932a7",
   "metadata": {},
   "outputs": [
    {
     "data": {
      "text/plain": [
       "queens (generic function with 1 method)"
      ]
     },
     "execution_count": 47,
     "metadata": {},
     "output_type": "execute_result"
    }
   ],
   "source": [
    "attacks(x1, y1, x2, y2) = (x1 == x2 || y1 == y2 || x1 - y1 == x2 - y2 || x1 + y1 == x2 + y2)\n",
    "function queens(N, xs...)\n",
    "    lxs = length(xs)\n",
    "    c = N - lxs                          ## Step 6\n",
    "    if c == 0                            ## Step 3\n",
    "        println(\"Final Positions: \", reverse(xs))\n",
    "        return 0\n",
    "    end\n",
    "    for i=1:N                            ## Step 1 & 2\n",
    "        res = false                      ## Step 2(a)\n",
    "        for j=1:lxs\n",
    "            res = res || attacks(xs[j], N-j+1, i, c)\n",
    "        end\n",
    "        res && continue\n",
    "        v = queens(N, xs..., i)          ## Step 2(c)\n",
    "        v < 0 || return v\n",
    "    end\n",
    "    return -1                            ## Step 4\n",
    "end"
   ]
  },
  {
   "cell_type": "code",
   "execution_count": 48,
   "id": "ae22628d",
   "metadata": {},
   "outputs": [
    {
     "name": "stdout",
     "output_type": "stream",
     "text": [
      "Final Positions: (4, 2, 7, 3, 6, 8, 5, 1)\n"
     ]
    },
    {
     "data": {
      "text/plain": [
       "0"
      ]
     },
     "execution_count": 48,
     "metadata": {},
     "output_type": "execute_result"
    }
   ],
   "source": [
    "queens(8)"
   ]
  },
  {
   "cell_type": "code",
   "execution_count": 49,
   "id": "c9f0e0ef",
   "metadata": {},
   "outputs": [
    {
     "data": {
      "text/plain": [
       "queens (generic function with 1 method)"
      ]
     },
     "execution_count": 49,
     "metadata": {},
     "output_type": "execute_result"
    }
   ],
   "source": [
    "function queens(N, xs...)\n",
    "    println(xs)\n",
    "    lxs = length(xs)\n",
    "    c = N - lxs                          ## Step 6\n",
    "    if c == 0                            ## Step 3\n",
    "        println(\"Final Positions: \", reverse(xs))\n",
    "        return 0\n",
    "    end\n",
    "    for i=1:N                            ## Step 1 & 2\n",
    "        res = false                      ## Step 2(a)\n",
    "        for j=1:lxs\n",
    "            res = res || attacks(xs[j], N-j+1, i, c)\n",
    "        end\n",
    "        res && continue\n",
    "        v = queens(N, xs..., i)          ## Step 2(c)\n",
    "        v < 0 || return v\n",
    "    end\n",
    "    return -1                            ## Step 4\n",
    "end"
   ]
  },
  {
   "cell_type": "code",
   "execution_count": 50,
   "id": "3486bffa",
   "metadata": {},
   "outputs": [
    {
     "name": "stdout",
     "output_type": "stream",
     "text": [
      "()\n",
      "(1,)\n",
      "(1, 3)\n",
      "(1, 3, 5)\n",
      "(1, 3, 5, 2)\n",
      "(1, 3, 5, 2, 4)\n",
      "(1, 3, 5, 2, 8)\n",
      "(1, 3, 5, 7)\n",
      "(1, 3, 5, 7, 2)\n",
      "(1, 3, 5, 7, 2, 4)\n",
      "(1, 3, 5, 7, 2, 4, 6)\n",
      "(1, 3, 5, 7, 4)\n",
      "(1, 3, 5, 8)\n",
      "(1, 3, 5, 8, 2)\n",
      "(1, 3, 5, 8, 2, 4)\n",
      "(1, 3, 5, 8, 2, 4, 6)\n",
      "(1, 3, 5, 8, 4)\n",
      "(1, 3, 6)\n",
      "(1, 3, 6, 2)\n",
      "(1, 3, 6, 2, 7)\n",
      "(1, 3, 6, 2, 7, 5)\n",
      "(1, 3, 6, 8)\n",
      "(1, 3, 6, 8, 2)\n",
      "(1, 3, 6, 8, 2, 4)\n",
      "(1, 3, 6, 8, 2, 5)\n",
      "(1, 3, 7)\n",
      "(1, 3, 7, 2)\n",
      "(1, 3, 7, 2, 4)\n",
      "(1, 3, 7, 2, 4, 8)\n",
      "(1, 3, 7, 2, 8)\n",
      "(1, 3, 7, 2, 8, 5)\n",
      "(1, 3, 8)\n",
      "(1, 3, 8, 2)\n",
      "(1, 3, 8, 2, 4)\n",
      "(1, 3, 8, 2, 7)\n",
      "(1, 3, 8, 6)\n",
      "(1, 3, 8, 6, 2)\n",
      "(1, 3, 8, 6, 4)\n",
      "(1, 3, 8, 6, 4, 2)\n",
      "(1, 3, 8, 6, 4, 2, 5)\n",
      "(1, 4)\n",
      "(1, 4, 2)\n",
      "(1, 4, 2, 5)\n",
      "(1, 4, 2, 5, 3)\n",
      "(1, 4, 2, 5, 8)\n",
      "(1, 4, 2, 7)\n",
      "(1, 4, 2, 7, 3)\n",
      "(1, 4, 2, 8)\n",
      "(1, 4, 2, 8, 3)\n",
      "(1, 4, 2, 8, 3, 7)\n",
      "(1, 4, 2, 8, 6)\n",
      "(1, 4, 2, 8, 6, 3)\n",
      "(1, 4, 6)\n",
      "(1, 4, 6, 3)\n",
      "(1, 4, 6, 8)\n",
      "(1, 4, 6, 8, 2)\n",
      "(1, 4, 6, 8, 2, 5)\n",
      "(1, 4, 6, 8, 2, 5, 3)\n",
      "(1, 4, 6, 8, 2, 7)\n",
      "(1, 4, 6, 8, 2, 7, 3)\n",
      "(1, 4, 6, 8, 3)\n",
      "(1, 4, 6, 8, 3, 5)\n",
      "(1, 4, 6, 8, 3, 7)\n",
      "(1, 4, 7)\n",
      "(1, 4, 7, 3)\n",
      "(1, 4, 7, 3, 6)\n",
      "(1, 4, 7, 3, 6, 2)\n",
      "(1, 4, 7, 3, 6, 2, 5)\n",
      "(1, 4, 7, 3, 8)\n",
      "(1, 4, 7, 3, 8, 2)\n",
      "(1, 4, 7, 3, 8, 2, 5)\n",
      "(1, 4, 7, 5)\n",
      "(1, 4, 7, 5, 2)\n",
      "(1, 4, 7, 5, 3)\n",
      "(1, 4, 7, 5, 8)\n",
      "(1, 4, 7, 5, 8, 2)\n",
      "(1, 4, 8)\n",
      "(1, 4, 8, 3)\n",
      "(1, 4, 8, 5)\n",
      "(1, 4, 8, 5, 2)\n",
      "(1, 4, 8, 5, 3)\n",
      "(1, 5)\n",
      "(1, 5, 2)\n",
      "(1, 5, 2, 6)\n",
      "(1, 5, 2, 6, 3)\n",
      "(1, 5, 2, 6, 3, 7)\n",
      "(1, 5, 2, 6, 3, 7, 4)\n",
      "(1, 5, 2, 8)\n",
      "(1, 5, 2, 8, 3)\n",
      "(1, 5, 2, 8, 3, 7)\n",
      "(1, 5, 2, 8, 3, 7, 4)\n",
      "(1, 5, 2, 8, 6)\n",
      "(1, 5, 2, 8, 6, 3)\n",
      "(1, 5, 2, 8, 6, 4)\n",
      "(1, 5, 7)\n",
      "(1, 5, 7, 2)\n",
      "(1, 5, 7, 2, 4)\n",
      "(1, 5, 7, 2, 4, 8)\n",
      "(1, 5, 7, 2, 6)\n",
      "(1, 5, 7, 2, 6, 3)\n",
      "(1, 5, 7, 2, 6, 8)\n",
      "(1, 5, 8)\n",
      "(1, 5, 8, 2)\n",
      "(1, 5, 8, 2, 4)\n",
      "(1, 5, 8, 2, 4, 7)\n",
      "(1, 5, 8, 2, 4, 7, 3)\n",
      "(1, 5, 8, 2, 7)\n",
      "(1, 5, 8, 2, 7, 3)\n",
      "(1, 5, 8, 2, 7, 3, 6)\n",
      "(1, 5, 8, 6)\n",
      "(1, 5, 8, 6, 3)\n",
      "(1, 5, 8, 6, 3, 7)\n",
      "(1, 5, 8, 6, 3, 7, 2)\n",
      "(1, 5, 8, 6, 3, 7, 2, 4)\n",
      "Final Positions: (4, 2, 7, 3, 6, 8, 5, 1)\n"
     ]
    },
    {
     "data": {
      "text/plain": [
       "0"
      ]
     },
     "execution_count": 50,
     "metadata": {},
     "output_type": "execute_result"
    }
   ],
   "source": [
    "queens(8)"
   ]
  },
  {
   "cell_type": "markdown",
   "id": "9b9f4673",
   "metadata": {},
   "source": [
    "## Tail Call"
   ]
  },
  {
   "cell_type": "code",
   "execution_count": 51,
   "id": "b48d4b93",
   "metadata": {},
   "outputs": [
    {
     "data": {
      "text/plain": [
       "mycumsum (generic function with 1 method)"
      ]
     },
     "execution_count": 51,
     "metadata": {},
     "output_type": "execute_result"
    }
   ],
   "source": [
    "function mycumsum(j) \n",
    "     if j <= 0 \n",
    "         return 0 \n",
    "     else \n",
    "         return j + mycumsum(j-1)\n",
    "     end\n",
    "end"
   ]
  },
  {
   "cell_type": "code",
   "execution_count": 52,
   "id": "bcaba13c",
   "metadata": {},
   "outputs": [
    {
     "data": {
      "text/plain": [
       "210"
      ]
     },
     "execution_count": 52,
     "metadata": {},
     "output_type": "execute_result"
    }
   ],
   "source": [
    "mycumsum(20)"
   ]
  },
  {
   "cell_type": "code",
   "execution_count": 53,
   "id": "475cd29c",
   "metadata": {},
   "outputs": [
    {
     "data": {
      "text/plain": [
       "mycumsum (generic function with 2 methods)"
      ]
     },
     "execution_count": 53,
     "metadata": {},
     "output_type": "execute_result"
    }
   ],
   "source": [
    "function mycumsum(j, s=0)\n",
    "    if j <= 0\n",
    "        return s\n",
    "    else\n",
    "        return mycumsum(j-1, j+s)\n",
    "    end\n",
    "end"
   ]
  },
  {
   "cell_type": "code",
   "execution_count": 54,
   "id": "9fc996e8",
   "metadata": {},
   "outputs": [
    {
     "data": {
      "text/plain": [
       "5050"
      ]
     },
     "execution_count": 54,
     "metadata": {},
     "output_type": "execute_result"
    }
   ],
   "source": [
    "mycumsum(100)"
   ]
  },
  {
   "cell_type": "markdown",
   "id": "2eae99a7",
   "metadata": {},
   "source": [
    "# 6.) Polymorphic Methods"
   ]
  },
  {
   "cell_type": "markdown",
   "id": "f6cb283a",
   "metadata": {},
   "source": [
    "## Data Types"
   ]
  },
  {
   "cell_type": "code",
   "execution_count": 73,
   "id": "7561c559",
   "metadata": {},
   "outputs": [
    {
     "data": {
      "text/plain": [
       "area (generic function with 2 methods)"
      ]
     },
     "execution_count": 73,
     "metadata": {},
     "output_type": "execute_result"
    }
   ],
   "source": [
    "abstract type Shape end\n",
    "struct Rectangle <: Shape\n",
    "    w::Float32\n",
    "    h::Float32\n",
    "end\n",
    "\n",
    "struct Triangle <: Shape \n",
    "    a::Float32\n",
    "    b::Float32\n",
    "    c::Float32\n",
    "end\n",
    "area(r::Rectangle)=r.w*r.h\n",
    "\n",
    "function area(t::Triangle)\n",
    "    a, b, c = t.a, t.b, t.c\n",
    "    s = (a + b + c)/2\n",
    "    return sqrt(s*(s-a)*(s-b)*(s-c))\n",
    "end"
   ]
  },
  {
   "cell_type": "code",
   "execution_count": 74,
   "id": "a115de55",
   "metadata": {},
   "outputs": [
    {
     "data": {
      "text/plain": [
       "(Shape Type:Rectangle Area:200.0, Shape Type:Triangle Area:600.0)"
      ]
     },
     "execution_count": 74,
     "metadata": {},
     "output_type": "execute_result"
    }
   ],
   "source": [
    "r, t = Rectangle(10,20), Triangle(30, 40, 50)"
   ]
  },
  {
   "cell_type": "code",
   "execution_count": 75,
   "id": "daee6fe1",
   "metadata": {},
   "outputs": [
    {
     "data": {
      "text/plain": [
       "200.0f0"
      ]
     },
     "execution_count": 75,
     "metadata": {},
     "output_type": "execute_result"
    }
   ],
   "source": [
    "area(r)"
   ]
  },
  {
   "cell_type": "code",
   "execution_count": 76,
   "id": "754bb022",
   "metadata": {},
   "outputs": [
    {
     "data": {
      "text/plain": [
       "600.0f0"
      ]
     },
     "execution_count": 76,
     "metadata": {},
     "output_type": "execute_result"
    }
   ],
   "source": [
    "area(t)"
   ]
  },
  {
   "cell_type": "code",
   "execution_count": 77,
   "id": "7c1b4b5e",
   "metadata": {},
   "outputs": [],
   "source": [
    "Base.show(io::IO, s::Shape) = print(io, \"Shape Type:\", typeof(s), \" Area:\", area(s))"
   ]
  },
  {
   "cell_type": "code",
   "execution_count": 78,
   "id": "8eaf5d3e",
   "metadata": {},
   "outputs": [
    {
     "data": {
      "text/plain": [
       "Shape Type:Rectangle Area:200.0"
      ]
     },
     "execution_count": 78,
     "metadata": {},
     "output_type": "execute_result"
    }
   ],
   "source": [
    "r"
   ]
  },
  {
   "cell_type": "code",
   "execution_count": 79,
   "id": "f6bb1f25",
   "metadata": {},
   "outputs": [
    {
     "data": {
      "text/plain": [
       "Shape Type:Triangle Area:600.0"
      ]
     },
     "execution_count": 79,
     "metadata": {},
     "output_type": "execute_result"
    }
   ],
   "source": [
    "t"
   ]
  },
  {
   "cell_type": "markdown",
   "id": "f070bd3d",
   "metadata": {},
   "source": [
    "## Multiple Dispatch"
   ]
  },
  {
   "cell_type": "markdown",
   "id": "52bbee15",
   "metadata": {},
   "source": [
    "## Constructor"
   ]
  },
  {
   "cell_type": "code",
   "execution_count": 94,
   "id": "57f0269c",
   "metadata": {},
   "outputs": [],
   "source": [
    "struct RectangleA\n",
    "    x::Float32\n",
    "    y::Float32\n",
    "    function RectangleA(x::Real, y::Real)\n",
    "        (x > 0 && y > 0) || \n",
    "        error(\"invalid rectangle with non-positive y or x\")\n",
    "        return new(x, y)\n",
    "    end\n",
    "end"
   ]
  },
  {
   "cell_type": "code",
   "execution_count": 95,
   "id": "dba35be3",
   "metadata": {},
   "outputs": [
    {
     "data": {
      "text/plain": [
       "RectangleA(15.0f0, 49.0f0)"
      ]
     },
     "execution_count": 95,
     "metadata": {},
     "output_type": "execute_result"
    }
   ],
   "source": [
    "J = RectangleA(15.0, 49.0)"
   ]
  },
  {
   "cell_type": "code",
   "execution_count": 96,
   "id": "b3707cd8",
   "metadata": {},
   "outputs": [
    {
     "data": {
      "text/plain": [
       "RectangleA(0.33333334f0, 0.8333333f0)"
      ]
     },
     "execution_count": 96,
     "metadata": {},
     "output_type": "execute_result"
    }
   ],
   "source": [
    "J = RectangleA(1//3, 5//6)"
   ]
  },
  {
   "cell_type": "code",
   "execution_count": 97,
   "id": "ac16b305",
   "metadata": {},
   "outputs": [
    {
     "data": {
      "text/plain": [
       "RectangleA(6.0f0, 7.0f0)"
      ]
     },
     "execution_count": 97,
     "metadata": {},
     "output_type": "execute_result"
    }
   ],
   "source": [
    "J = RectangleA(6, 7)"
   ]
  },
  {
   "cell_type": "code",
   "execution_count": 100,
   "id": "7338e4d2",
   "metadata": {},
   "outputs": [
    {
     "data": {
      "text/plain": [
       "RectangleA(5.0f0, 9.0f0)"
      ]
     },
     "execution_count": 100,
     "metadata": {},
     "output_type": "execute_result"
    }
   ],
   "source": [
    "J = RectangleA(5.0, 9.0)"
   ]
  },
  {
   "cell_type": "code",
   "execution_count": 101,
   "id": "87793820",
   "metadata": {},
   "outputs": [
    {
     "data": {
      "text/plain": [
       "RectangleA(1.0f0, 45.0f0)"
      ]
     },
     "execution_count": 101,
     "metadata": {},
     "output_type": "execute_result"
    }
   ],
   "source": [
    "J = RectangleA(1.0, 45)"
   ]
  },
  {
   "cell_type": "code",
   "execution_count": 102,
   "id": "f8736d50",
   "metadata": {},
   "outputs": [
    {
     "data": {
      "text/plain": [
       "RectangleA"
      ]
     },
     "execution_count": 102,
     "metadata": {},
     "output_type": "execute_result"
    }
   ],
   "source": [
    "RectangleA(a=1.0)=RectangleA(a, a)"
   ]
  },
  {
   "cell_type": "code",
   "execution_count": 103,
   "id": "1618f312",
   "metadata": {},
   "outputs": [
    {
     "data": {
      "text/plain": [
       "RectangleA(1.0f0, 1.0f0)"
      ]
     },
     "execution_count": 103,
     "metadata": {},
     "output_type": "execute_result"
    }
   ],
   "source": [
    "RectangleA()"
   ]
  },
  {
   "cell_type": "code",
   "execution_count": 104,
   "id": "abc689ba",
   "metadata": {},
   "outputs": [
    {
     "data": {
      "text/plain": [
       "RectangleA(2.0f0, 2.0f0)"
      ]
     },
     "execution_count": 104,
     "metadata": {},
     "output_type": "execute_result"
    }
   ],
   "source": [
    "RectangleA(2.0)"
   ]
  },
  {
   "cell_type": "code",
   "execution_count": 105,
   "id": "0ba9229c",
   "metadata": {},
   "outputs": [
    {
     "data": {
      "text/html": [
       "# 3 methods for type constructor:<ul><li> RectangleA() in Main at In[102]:1</li> <li> RectangleA(x::<b>Real</b>, y::<b>Real</b>) in Main at In[94]:4</li> <li> RectangleA(a) in Main at In[102]:1</li> </ul>"
      ],
      "text/plain": [
       "# 3 methods for type constructor:\n",
       "[1] RectangleA() in Main at In[102]:1\n",
       "[2] RectangleA(x::Real, y::Real) in Main at In[94]:4\n",
       "[3] RectangleA(a) in Main at In[102]:1"
      ]
     },
     "execution_count": 105,
     "metadata": {},
     "output_type": "execute_result"
    }
   ],
   "source": [
    "methods(RectangleA)"
   ]
  },
  {
   "cell_type": "markdown",
   "id": "b36b7537",
   "metadata": {},
   "source": [
    "## Return Value"
   ]
  },
  {
   "cell_type": "markdown",
   "id": "169596ed",
   "metadata": {},
   "source": [
    "### Parametric Data Types"
   ]
  },
  {
   "cell_type": "code",
   "execution_count": 117,
   "id": "2c283b6c",
   "metadata": {},
   "outputs": [],
   "source": [
    "struct RectangleB{T <: Real}\n",
    "    w::T\n",
    "    h::T\n",
    "end"
   ]
  },
  {
   "cell_type": "code",
   "execution_count": 118,
   "id": "a521a84e",
   "metadata": {},
   "outputs": [
    {
     "data": {
      "text/plain": [
       "RectangleB{Rational{Int64}}(3//4, 1//4)"
      ]
     },
     "execution_count": 118,
     "metadata": {},
     "output_type": "execute_result"
    }
   ],
   "source": [
    "RectangleB(3//4, 1//4)"
   ]
  },
  {
   "cell_type": "code",
   "execution_count": 119,
   "id": "16dd5cab",
   "metadata": {},
   "outputs": [
    {
     "data": {
      "text/plain": [
       "RectangleB{Float32}(1.0f0, 2.0f0)"
      ]
     },
     "execution_count": 119,
     "metadata": {},
     "output_type": "execute_result"
    }
   ],
   "source": [
    "RectangleB(1f0, 2f0)"
   ]
  },
  {
   "cell_type": "code",
   "execution_count": 109,
   "id": "ba1ee08f",
   "metadata": {},
   "outputs": [
    {
     "ename": "LoadError",
     "evalue": "MethodError: no method matching RectangleB(::Rational{Int64}, ::Float32)\n\u001b[0mClosest candidates are:\n\u001b[0m  RectangleB(::T, \u001b[91m::T\u001b[39m) where T<:Real at In[106]:2",
     "output_type": "error",
     "traceback": [
      "MethodError: no method matching RectangleB(::Rational{Int64}, ::Float32)\n\u001b[0mClosest candidates are:\n\u001b[0m  RectangleB(::T, \u001b[91m::T\u001b[39m) where T<:Real at In[106]:2",
      "",
      "Stacktrace:",
      " [1] top-level scope",
      "   @ In[109]:1",
      " [2] eval",
      "   @ .\\boot.jl:360 [inlined]",
      " [3] include_string(mapexpr::typeof(REPL.softscope), mod::Module, code::String, filename::String)",
      "   @ Base .\\loading.jl:1116"
     ]
    }
   ],
   "source": [
    "RectangleB(2//3, 1f0)"
   ]
  },
  {
   "cell_type": "code",
   "execution_count": 124,
   "id": "e3c78f8d",
   "metadata": {},
   "outputs": [
    {
     "data": {
      "text/plain": [
       "RectangleB{Int64}(106, 1)"
      ]
     },
     "execution_count": 124,
     "metadata": {},
     "output_type": "execute_result"
    }
   ],
   "source": [
    "RectangleB{Int}('j', 1f0)"
   ]
  },
  {
   "cell_type": "code",
   "execution_count": 130,
   "id": "106ff05a",
   "metadata": {},
   "outputs": [
    {
     "data": {
      "text/plain": [
       "aspect_ratio (generic function with 1 method)"
      ]
     },
     "execution_count": 130,
     "metadata": {},
     "output_type": "execute_result"
    }
   ],
   "source": [
    "area(r::RectangleB)=r.w*r.h\n",
    "aspect_ratio(r::RectangleB)=r.w/r.h"
   ]
  },
  {
   "cell_type": "code",
   "execution_count": 131,
   "id": "6b5a3f6b",
   "metadata": {},
   "outputs": [
    {
     "data": {
      "text/plain": [
       "(RectangleB{Rational{Int64}}(1//2, 2//3), RectangleB{Float64}(1.5, 0.5), RectangleB{Int64}(1, 2))"
      ]
     },
     "execution_count": 131,
     "metadata": {},
     "output_type": "execute_result"
    }
   ],
   "source": [
    "r, r1, r2 = RectangleB(1//2, 2//3), RectangleB(1.5, 0.5), RectangleB(1, 2)"
   ]
  },
  {
   "cell_type": "code",
   "execution_count": 132,
   "id": "a4d27cbc",
   "metadata": {},
   "outputs": [
    {
     "data": {
      "text/plain": [
       "(1//3, 0.75, 2)"
      ]
     },
     "execution_count": 132,
     "metadata": {},
     "output_type": "execute_result"
    }
   ],
   "source": [
    "area(r), area(r1), area(r2)"
   ]
  },
  {
   "cell_type": "code",
   "execution_count": 133,
   "id": "af6883c1",
   "metadata": {},
   "outputs": [
    {
     "data": {
      "text/plain": [
       "(3//4, 3.0, 0.5)"
      ]
     },
     "execution_count": 133,
     "metadata": {},
     "output_type": "execute_result"
    }
   ],
   "source": [
    "aspect_ratio(r), aspect_ratio(r1), aspect_ratio(r2)"
   ]
  },
  {
   "cell_type": "code",
   "execution_count": 134,
   "id": "f69b51a6",
   "metadata": {},
   "outputs": [
    {
     "data": {
      "text/plain": [
       "aspect_ratio (generic function with 2 methods)"
      ]
     },
     "execution_count": 134,
     "metadata": {},
     "output_type": "execute_result"
    }
   ],
   "source": [
    "aspect_ratio(r::RectangleB{T}) where T<:Union{Integer, Rational} = r.w//r.h"
   ]
  },
  {
   "cell_type": "code",
   "execution_count": 135,
   "id": "8cb97efb",
   "metadata": {},
   "outputs": [
    {
     "data": {
      "text/plain": [
       "(3//4, 3.0, 1//2)"
      ]
     },
     "execution_count": 135,
     "metadata": {},
     "output_type": "execute_result"
    }
   ],
   "source": [
    "aspect_ratio(r), aspect_ratio(r1), aspect_ratio(r2)"
   ]
  },
  {
   "cell_type": "code",
   "execution_count": 136,
   "id": "733b55b3",
   "metadata": {},
   "outputs": [
    {
     "data": {
      "text/plain": [
       "aspect_ratio (generic function with 3 methods)"
      ]
     },
     "execution_count": 136,
     "metadata": {},
     "output_type": "execute_result"
    }
   ],
   "source": [
    "aspect_ratio(r::RectangleB{T}) where T<:Integer = r.w//r.h"
   ]
  },
  {
   "cell_type": "code",
   "execution_count": 137,
   "id": "7af47a48",
   "metadata": {},
   "outputs": [
    {
     "data": {
      "text/plain": [
       "aspect_ratio (generic function with 4 methods)"
      ]
     },
     "execution_count": 137,
     "metadata": {},
     "output_type": "execute_result"
    }
   ],
   "source": [
    "aspect_ratio(r::RectangleB{T}) where T<:Rational = r.w//r.h"
   ]
  },
  {
   "cell_type": "code",
   "execution_count": 138,
   "id": "f090548b",
   "metadata": {},
   "outputs": [
    {
     "data": {
      "text/plain": [
       "false"
      ]
     },
     "execution_count": 138,
     "metadata": {},
     "output_type": "execute_result"
    }
   ],
   "source": [
    "RectangleB{Rational{Int}} <: RectangleB{Rational}"
   ]
  },
  {
   "cell_type": "code",
   "execution_count": 139,
   "id": "0c212154",
   "metadata": {},
   "outputs": [
    {
     "data": {
      "text/plain": [
       "true"
      ]
     },
     "execution_count": 139,
     "metadata": {},
     "output_type": "execute_result"
    }
   ],
   "source": [
    "RectangleB{Rational{Int}} <: RectangleB"
   ]
  },
  {
   "cell_type": "code",
   "execution_count": 140,
   "id": "599bf2af",
   "metadata": {},
   "outputs": [
    {
     "data": {
      "text/plain": [
       "true"
      ]
     },
     "execution_count": 140,
     "metadata": {},
     "output_type": "execute_result"
    }
   ],
   "source": [
    "RectangleB{Rational} <: RectangleB"
   ]
  },
  {
   "cell_type": "markdown",
   "id": "6fff49b3",
   "metadata": {},
   "source": [
    "# 7.) Type Interaction"
   ]
  },
  {
   "cell_type": "code",
   "execution_count": null,
   "id": "beed5afc",
   "metadata": {},
   "outputs": [],
   "source": [
    "1f0+2"
   ]
  },
  {
   "cell_type": "code",
   "execution_count": null,
   "id": "6c3b9ed6",
   "metadata": {},
   "outputs": [],
   "source": [
    "1f0+2.0"
   ]
  },
  {
   "cell_type": "code",
   "execution_count": null,
   "id": "7de2b1b2",
   "metadata": {},
   "outputs": [],
   "source": [
    "function f()\n",
    "    i::Int = 0\n",
    "    i = 1.5\n",
    "    return i\n",
    "end"
   ]
  },
  {
   "cell_type": "code",
   "execution_count": null,
   "id": "88863285",
   "metadata": {},
   "outputs": [],
   "source": [
    "f()"
   ]
  },
  {
   "cell_type": "code",
   "execution_count": null,
   "id": "9d5a59d1",
   "metadata": {},
   "outputs": [],
   "source": [
    "RectangleB{Int}('a', 1.0)"
   ]
  },
  {
   "cell_type": "code",
   "execution_count": null,
   "id": "3baa70da",
   "metadata": {},
   "outputs": [],
   "source": [
    "RectangleB{Int}(\"abc\", 1.0)"
   ]
  },
  {
   "cell_type": "markdown",
   "id": "1e5e274c",
   "metadata": {},
   "source": [
    "## Promotion"
   ]
  },
  {
   "cell_type": "code",
   "execution_count": 141,
   "id": "520c5fc1",
   "metadata": {},
   "outputs": [],
   "source": [
    "struct RectangleP{T<:Real}\n",
    "    w::T\n",
    "    h::T\n",
    "    RectangleP(w::T, h::T) where T<:Real=new{T}(w, h)\n",
    "end"
   ]
  },
  {
   "cell_type": "code",
   "execution_count": 151,
   "id": "9c21471a",
   "metadata": {},
   "outputs": [
    {
     "data": {
      "text/plain": [
       "RectangleP{Float64}(1.0, 2.0)"
      ]
     },
     "execution_count": 151,
     "metadata": {},
     "output_type": "execute_result"
    }
   ],
   "source": [
    "RectangleP(1.0, 2.0)"
   ]
  },
  {
   "cell_type": "code",
   "execution_count": 152,
   "id": "f1f6b8c8",
   "metadata": {},
   "outputs": [
    {
     "data": {
      "text/plain": [
       "RectangleP"
      ]
     },
     "execution_count": 152,
     "metadata": {},
     "output_type": "execute_result"
    }
   ],
   "source": [
    "function RectangleP(w::T1, h::T2) where {T1<:Real, T2<:Real}\n",
    "    w1, h1 = promote(w, h)\n",
    "    return RectangleP(w1, h1)\n",
    "end"
   ]
  },
  {
   "cell_type": "code",
   "execution_count": 153,
   "id": "0789c95b",
   "metadata": {},
   "outputs": [
    {
     "data": {
      "text/plain": [
       "RectangleP{Float64}(1.0, 2.0)"
      ]
     },
     "execution_count": 153,
     "metadata": {},
     "output_type": "execute_result"
    }
   ],
   "source": [
    "RectangleP(1, 2.0)"
   ]
  },
  {
   "cell_type": "code",
   "execution_count": 154,
   "id": "7ca1de5d",
   "metadata": {},
   "outputs": [
    {
     "data": {
      "text/plain": [
       "minrect (generic function with 1 method)"
      ]
     },
     "execution_count": 154,
     "metadata": {},
     "output_type": "execute_result"
    }
   ],
   "source": [
    "function minrect(r1::RectangleP, r2::RectangleP)\n",
    "    w = r1.w < r2.w ? r1.w : r2.w\n",
    "    h = r1.h < r2.h ? r1.h : r2.h\n",
    "    return RectangleP(w, h)\n",
    "end"
   ]
  },
  {
   "cell_type": "code",
   "execution_count": 155,
   "id": "073c39f1",
   "metadata": {},
   "outputs": [
    {
     "data": {
      "text/plain": [
       "RectangleP{Float64}(1.0, 0.5)"
      ]
     },
     "execution_count": 155,
     "metadata": {},
     "output_type": "execute_result"
    }
   ],
   "source": [
    "minrect(RectangleP(1, 2), RectangleP(2.0, 0.5))"
   ]
  },
  {
   "cell_type": "code",
   "execution_count": 156,
   "id": "d8cea823",
   "metadata": {},
   "outputs": [
    {
     "data": {
      "text/plain": [
       "RectangleP{Int64}(1, 2)"
      ]
     },
     "execution_count": 156,
     "metadata": {},
     "output_type": "execute_result"
    }
   ],
   "source": [
    "minrect(RectangleP(1, 2), RectangleP(3.0, 4.0))"
   ]
  },
  {
   "cell_type": "code",
   "execution_count": 157,
   "id": "f94fb86b",
   "metadata": {},
   "outputs": [
    {
     "data": {
      "text/plain": [
       "minrect (generic function with 1 method)"
      ]
     },
     "execution_count": 157,
     "metadata": {},
     "output_type": "execute_result"
    }
   ],
   "source": [
    "Base.promote_rule(::Type{RectangleP{T}}, ::Type{RectangleP{S}}) where {T<:Real, S<:Real} = RectangleP{promote_type(S, T)}\n",
    "Base.convert(::Type{RectangleP{T}}, x::RectangleP{S}) where {T<:Real, S<:Real} = RectangleP(T(x.w), T(x.h))\n",
    "\n",
    "function minrect(tr1::RectangleP, tr2::RectangleP)\n",
    "    r1, r2 = promote(tr1, tr2)\n",
    "    w = r1.w < r2.w ? r1.w : r2.w\n",
    "    h = r1.h < r2.h ? r1.h : r2.h\n",
    "    return RectangleP(w, h)\n",
    "end"
   ]
  },
  {
   "cell_type": "code",
   "execution_count": 158,
   "id": "28020f83",
   "metadata": {},
   "outputs": [
    {
     "data": {
      "text/plain": [
       "RectangleP{Float64}(1.0, 2.0)"
      ]
     },
     "execution_count": 158,
     "metadata": {},
     "output_type": "execute_result"
    }
   ],
   "source": [
    "minrect(RectangleP(1, 2), RectangleP(3.0, 4.0))"
   ]
  },
  {
   "cell_type": "code",
   "execution_count": null,
   "id": "319125c0",
   "metadata": {},
   "outputs": [],
   "source": []
  },
  {
   "cell_type": "code",
   "execution_count": null,
   "id": "b585b301",
   "metadata": {},
   "outputs": [],
   "source": []
  },
  {
   "cell_type": "code",
   "execution_count": null,
   "id": "aeb17e99",
   "metadata": {},
   "outputs": [],
   "source": []
  },
  {
   "cell_type": "code",
   "execution_count": null,
   "id": "4a6e5463",
   "metadata": {},
   "outputs": [],
   "source": []
  }
 ],
 "metadata": {
  "kernelspec": {
   "display_name": "Julia 1.6.7",
   "language": "julia",
   "name": "julia-1.6"
  },
  "language_info": {
   "file_extension": ".jl",
   "mimetype": "application/julia",
   "name": "julia",
   "version": "1.6.7"
  }
 },
 "nbformat": 4,
 "nbformat_minor": 5
}
